{
 "cells": [
  {
   "cell_type": "markdown",
   "metadata": {},
   "source": [
    "# Credit Card Customer Segmentation"
   ]
  },
  {
   "cell_type": "markdown",
   "metadata": {},
   "source": [
    "## Goal"
   ]
  },
  {
   "cell_type": "markdown",
   "metadata": {},
   "source": [
    "We are a data scients working in a bank. The goal is to segment the customers so that we can apply different business strategies to each. For example we could provide higher limits for customers that use the card a lot but spend little money. Or give incentives to those with high income that doesn't use it as much.<br>\n",
    "We will apply the K-means algorithm to segment the data.<br>\n",
    "The output should be a group for each client and an explanation of its characteristics."
   ]
  },
  {
   "cell_type": "markdown",
   "metadata": {},
   "source": [
    "## Libraries"
   ]
  },
  {
   "cell_type": "code",
   "execution_count": 4,
   "metadata": {},
   "outputs": [],
   "source": [
    "import pandas as pd\n",
    "import numpy as np\n",
    "import seaborn as sns\n",
    "from sklearn.cluster import KMeans  \n",
    "from sklearn.preprocessing import StandardScaler"
   ]
  },
  {
   "cell_type": "markdown",
   "metadata": {},
   "source": [
    "## Data Dictionary"
   ]
  },
  {
   "cell_type": "markdown",
   "metadata": {},
   "source": [
    "- **customer_id**: unique identifier for each customer.\n",
    "- **age**: customer age in years.\n",
    "- **gender**: customer gender (M or F).\n",
    "- **dependent_count**: number of dependents of each customer.\n",
    "- **education_level**: level of education (\"High School\", \"Graduate\", etc.).\n",
    "- **marital_status**: marital status (\"Single\", \"Married\", etc.).\n",
    "- **estimated_income**: the estimated income for the customer projected by the data science team.\n",
    "- **months_on_book**: time as a customer in months.\n",
    "- **total_relationship_count**: number of times the customer contacted the company.\n",
    "- **months_inactive_12_mon**: number of months the customer did not use the credit card in the last 12 months.\n",
    "- **credit_limit**: customer's credit limit.\n",
    "- **total_trans_amount**: the overall amount of money spent on the card by the customer.\n",
    "- **total_trans_count**: the overall number of times the customer used the card.\n",
    "- **avg_utilization_ratio**: daily average utilization ratio."
   ]
  },
  {
   "cell_type": "markdown",
   "metadata": {},
   "source": [
    "## Load data"
   ]
  },
  {
   "cell_type": "code",
   "execution_count": 6,
   "metadata": {},
   "outputs": [],
   "source": [
    "ccc_df = pd.read_csv('data/credit_card_customers.csv')"
   ]
  },
  {
   "cell_type": "markdown",
   "metadata": {},
   "source": [
    "## EDA"
   ]
  },
  {
   "cell_type": "code",
   "execution_count": 7,
   "metadata": {},
   "outputs": [
    {
     "data": {
      "text/plain": [
       "(10127, 14)"
      ]
     },
     "execution_count": 7,
     "metadata": {},
     "output_type": "execute_result"
    }
   ],
   "source": [
    "ccc_df.shape"
   ]
  },
  {
   "cell_type": "code",
   "execution_count": 8,
   "metadata": {},
   "outputs": [
    {
     "data": {
      "text/html": [
       "<div>\n",
       "<style scoped>\n",
       "    .dataframe tbody tr th:only-of-type {\n",
       "        vertical-align: middle;\n",
       "    }\n",
       "\n",
       "    .dataframe tbody tr th {\n",
       "        vertical-align: top;\n",
       "    }\n",
       "\n",
       "    .dataframe thead th {\n",
       "        text-align: right;\n",
       "    }\n",
       "</style>\n",
       "<table border=\"1\" class=\"dataframe\">\n",
       "  <thead>\n",
       "    <tr style=\"text-align: right;\">\n",
       "      <th></th>\n",
       "      <th>customer_id</th>\n",
       "      <th>age</th>\n",
       "      <th>gender</th>\n",
       "      <th>dependent_count</th>\n",
       "      <th>education_level</th>\n",
       "      <th>marital_status</th>\n",
       "      <th>estimated_income</th>\n",
       "      <th>months_on_book</th>\n",
       "      <th>total_relationship_count</th>\n",
       "      <th>months_inactive_12_mon</th>\n",
       "      <th>credit_limit</th>\n",
       "      <th>total_trans_amount</th>\n",
       "      <th>total_trans_count</th>\n",
       "      <th>avg_utilization_ratio</th>\n",
       "    </tr>\n",
       "  </thead>\n",
       "  <tbody>\n",
       "    <tr>\n",
       "      <th>0</th>\n",
       "      <td>768805383</td>\n",
       "      <td>45</td>\n",
       "      <td>M</td>\n",
       "      <td>3</td>\n",
       "      <td>High School</td>\n",
       "      <td>Married</td>\n",
       "      <td>69000</td>\n",
       "      <td>39</td>\n",
       "      <td>5</td>\n",
       "      <td>1</td>\n",
       "      <td>12691.0</td>\n",
       "      <td>1144</td>\n",
       "      <td>42</td>\n",
       "      <td>0.061</td>\n",
       "    </tr>\n",
       "    <tr>\n",
       "      <th>1</th>\n",
       "      <td>818770008</td>\n",
       "      <td>49</td>\n",
       "      <td>F</td>\n",
       "      <td>5</td>\n",
       "      <td>Graduate</td>\n",
       "      <td>Single</td>\n",
       "      <td>24000</td>\n",
       "      <td>44</td>\n",
       "      <td>6</td>\n",
       "      <td>1</td>\n",
       "      <td>8256.0</td>\n",
       "      <td>1291</td>\n",
       "      <td>33</td>\n",
       "      <td>0.105</td>\n",
       "    </tr>\n",
       "    <tr>\n",
       "      <th>2</th>\n",
       "      <td>713982108</td>\n",
       "      <td>51</td>\n",
       "      <td>M</td>\n",
       "      <td>3</td>\n",
       "      <td>Graduate</td>\n",
       "      <td>Married</td>\n",
       "      <td>93000</td>\n",
       "      <td>36</td>\n",
       "      <td>4</td>\n",
       "      <td>1</td>\n",
       "      <td>3418.0</td>\n",
       "      <td>1887</td>\n",
       "      <td>20</td>\n",
       "      <td>0.000</td>\n",
       "    </tr>\n",
       "    <tr>\n",
       "      <th>3</th>\n",
       "      <td>769911858</td>\n",
       "      <td>40</td>\n",
       "      <td>F</td>\n",
       "      <td>4</td>\n",
       "      <td>High School</td>\n",
       "      <td>Unknown</td>\n",
       "      <td>37000</td>\n",
       "      <td>34</td>\n",
       "      <td>3</td>\n",
       "      <td>4</td>\n",
       "      <td>3313.0</td>\n",
       "      <td>1171</td>\n",
       "      <td>20</td>\n",
       "      <td>0.760</td>\n",
       "    </tr>\n",
       "    <tr>\n",
       "      <th>4</th>\n",
       "      <td>709106358</td>\n",
       "      <td>40</td>\n",
       "      <td>M</td>\n",
       "      <td>3</td>\n",
       "      <td>Uneducated</td>\n",
       "      <td>Married</td>\n",
       "      <td>65000</td>\n",
       "      <td>21</td>\n",
       "      <td>5</td>\n",
       "      <td>1</td>\n",
       "      <td>4716.0</td>\n",
       "      <td>816</td>\n",
       "      <td>28</td>\n",
       "      <td>0.000</td>\n",
       "    </tr>\n",
       "  </tbody>\n",
       "</table>\n",
       "</div>"
      ],
      "text/plain": [
       "   customer_id  age gender  dependent_count education_level marital_status  \\\n",
       "0    768805383   45      M                3     High School        Married   \n",
       "1    818770008   49      F                5        Graduate         Single   \n",
       "2    713982108   51      M                3        Graduate        Married   \n",
       "3    769911858   40      F                4     High School        Unknown   \n",
       "4    709106358   40      M                3      Uneducated        Married   \n",
       "\n",
       "   estimated_income  months_on_book  total_relationship_count  \\\n",
       "0             69000              39                         5   \n",
       "1             24000              44                         6   \n",
       "2             93000              36                         4   \n",
       "3             37000              34                         3   \n",
       "4             65000              21                         5   \n",
       "\n",
       "   months_inactive_12_mon  credit_limit  total_trans_amount  \\\n",
       "0                       1       12691.0                1144   \n",
       "1                       1        8256.0                1291   \n",
       "2                       1        3418.0                1887   \n",
       "3                       4        3313.0                1171   \n",
       "4                       1        4716.0                 816   \n",
       "\n",
       "   total_trans_count  avg_utilization_ratio  \n",
       "0                 42                  0.061  \n",
       "1                 33                  0.105  \n",
       "2                 20                  0.000  \n",
       "3                 20                  0.760  \n",
       "4                 28                  0.000  "
      ]
     },
     "execution_count": 8,
     "metadata": {},
     "output_type": "execute_result"
    }
   ],
   "source": [
    "ccc_df.head(5)"
   ]
  },
  {
   "cell_type": "code",
   "execution_count": 21,
   "metadata": {},
   "outputs": [
    {
     "data": {
      "text/plain": [
       "education_level\n",
       "Graduate         0.363879\n",
       "High School      0.232152\n",
       "Uneducated       0.173299\n",
       "College          0.117705\n",
       "Post-Graduate    0.060827\n",
       "Doctorate        0.052138\n",
       "Name: proportion, dtype: float64"
      ]
     },
     "execution_count": 21,
     "metadata": {},
     "output_type": "execute_result"
    }
   ],
   "source": [
    "ccc_df['education_level'].value_counts(normalize=True)"
   ]
  },
  {
   "cell_type": "markdown",
   "metadata": {},
   "source": [
    "### Observations"
   ]
  },
  {
   "cell_type": "markdown",
   "metadata": {},
   "source": [
    "- There are 10k observations/customers\n",
    "- We have 14 features\n",
    "- Age, normally distributed min 26 max 73, avg 43\n",
    "- Gender 53% female\n",
    "- Avg dependant 2\n",
    "- Most common education level is Graduate\n",
    "- 46% are married, 39% single\n",
    "- Income mean 62k, min 20k, max 200k\n",
    "- Avg months on book is around 36 months\n",
    "- Max inactivity in the last 12 mo is 6mo, the most common is 3mo\n",
    "- Credit limit range [1438.3, 34,516], has a long tail distribution\n",
    "- Total transactions amount [510, 18484], it has a long tail distribution"
   ]
  },
  {
   "cell_type": "markdown",
   "metadata": {},
   "source": []
  }
 ],
 "metadata": {
  "kernelspec": {
   "display_name": "base",
   "language": "python",
   "name": "python3"
  },
  "language_info": {
   "codemirror_mode": {
    "name": "ipython",
    "version": 3
   },
   "file_extension": ".py",
   "mimetype": "text/x-python",
   "name": "python",
   "nbconvert_exporter": "python",
   "pygments_lexer": "ipython3",
   "version": "3.11.5"
  }
 },
 "nbformat": 4,
 "nbformat_minor": 2
}
