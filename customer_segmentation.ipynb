{
 "cells": [
  {
   "cell_type": "markdown",
   "metadata": {},
   "source": [
    "# Credit Card Customer Segmentation"
   ]
  },
  {
   "cell_type": "markdown",
   "metadata": {},
   "source": [
    "## Goal"
   ]
  },
  {
   "cell_type": "markdown",
   "metadata": {},
   "source": [
    "We are a data scients working in a bank. The goal is to segment the customers so that we can apply different business strategies to each. For example we could provide higher limits for customers that use the card a lot but spend little money. Or give incentives to those with high income that doesn't use it as much.<br>\n",
    "We will apply the K-means algorithm to segment the data.<br>\n",
    "The output should be a group for each client and an explanation of its characteristics."
   ]
  },
  {
   "cell_type": "markdown",
   "metadata": {},
   "source": [
    "## Libraries"
   ]
  },
  {
   "cell_type": "code",
   "execution_count": 2,
   "metadata": {},
   "outputs": [],
   "source": [
    "\n",
    "import pandas as pd"
   ]
  },
  {
   "cell_type": "markdown",
   "metadata": {},
   "source": [
    "## Data Dictionary"
   ]
  },
  {
   "cell_type": "markdown",
   "metadata": {},
   "source": [
    "- **customer_id**: unique identifier for each customer.\n",
    "- **age**: customer age in years.\n",
    "- **gender**: customer gender (M or F).\n",
    "- **dependent_count**: number of dependents of each customer.\n",
    "- **education_level**: level of education (\"High School\", \"Graduate\", etc.).\n",
    "- **marital_status**: marital status (\"Single\", \"Married\", etc.).\n",
    "- **estimated_income**: the estimated income for the customer projected by the data science team.\n",
    "- **months_on_book**: time as a customer in months.\n",
    "- **total_relationship_count**: number of times the customer contacted the company.\n",
    "- **months_inactive_12_mon**: number of months the customer did not use the credit card in the last 12 months.\n",
    "- **credit_limit**: customer's credit limit.\n",
    "- **total_trans_amount**: the overall amount of money spent on the card by the customer.\n",
    "- **total_trans_count**: the overall number of times the customer used the card.\n",
    "- **avg_utilization_ratio**: daily average utilization ratio."
   ]
  },
  {
   "cell_type": "markdown",
   "metadata": {},
   "source": [
    "## Load data"
   ]
  },
  {
   "cell_type": "code",
   "execution_count": null,
   "metadata": {},
   "outputs": [],
   "source": []
  },
  {
   "cell_type": "markdown",
   "metadata": {},
   "source": [
    "## EDA"
   ]
  },
  {
   "cell_type": "markdown",
   "metadata": {},
   "source": []
  }
 ],
 "metadata": {
  "kernelspec": {
   "display_name": "base",
   "language": "python",
   "name": "python3"
  },
  "language_info": {
   "codemirror_mode": {
    "name": "ipython",
    "version": 3
   },
   "file_extension": ".py",
   "mimetype": "text/x-python",
   "name": "python",
   "nbconvert_exporter": "python",
   "pygments_lexer": "ipython3",
   "version": "3.11.5"
  }
 },
 "nbformat": 4,
 "nbformat_minor": 2
}
